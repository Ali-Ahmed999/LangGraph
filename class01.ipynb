{
  "nbformat": 4,
  "nbformat_minor": 0,
  "metadata": {
    "colab": {
      "provenance": [],
      "authorship_tag": "ABX9TyOPPgUUCF4qswC2ig0SA1WU",
      "include_colab_link": true
    },
    "kernelspec": {
      "name": "python3",
      "display_name": "Python 3"
    },
    "language_info": {
      "name": "python"
    }
  },
  "cells": [
    {
      "cell_type": "markdown",
      "metadata": {
        "id": "view-in-github",
        "colab_type": "text"
      },
      "source": [
        "<a href=\"https://colab.research.google.com/github/Ali-Ahmed999/LangGraph/blob/main/class01.ipynb\" target=\"_parent\"><img src=\"https://colab.research.google.com/assets/colab-badge.svg\" alt=\"Open In Colab\"/></a>"
      ]
    },
    {
      "cell_type": "markdown",
      "source": [
        "## 00_edges_nodes_graph.**ipynb**"
      ],
      "metadata": {
        "id": "rCdQDnMvKlx2"
      }
    },
    {
      "cell_type": "code",
      "execution_count": null,
      "metadata": {
        "id": "sLcjjX-dNtuh"
      },
      "outputs": [],
      "source": [
        "%%capture --no-stderr\n",
        "%pip install --quiet -U langgraph"
      ]
    },
    {
      "cell_type": "code",
      "source": [
        "from typing_extensions import TypedDict\n",
        "\n",
        "class LearningState(TypedDict):\n",
        "    prompt: str"
      ],
      "metadata": {
        "id": "0EgE7R82NyBf"
      },
      "execution_count": null,
      "outputs": []
    },
    {
      "cell_type": "code",
      "source": [
        "# prompt: create an example from above LearningState\n",
        "lahore_state: LearningState = LearningState(prompt= \"hello from UMT Lahore\")\n"
      ],
      "metadata": {
        "id": "vrw2hZV4N3Nn"
      },
      "execution_count": null,
      "outputs": []
    },
    {
      "cell_type": "code",
      "source": [
        "print(lahore_state)\n",
        "print(lahore_state['prompt'])\n",
        "print(lahore_state['prompt'] +\" I am\")\n",
        "print(lahore_state)\n",
        "print(type(lahore_state))"
      ],
      "metadata": {
        "colab": {
          "base_uri": "https://localhost:8080/"
        },
        "id": "Z4rvCFowN7-h",
        "outputId": "8cc61587-5966-4d6e-86b1-a23069f0b8f2"
      },
      "execution_count": null,
      "outputs": [
        {
          "output_type": "stream",
          "name": "stdout",
          "text": [
            "{'prompt': 'hello from UMT Lahore'}\n",
            "hello from UMT Lahore\n",
            "hello from UMT Lahore I am\n",
            "{'prompt': 'hello from UMT Lahore'}\n",
            "<class 'dict'>\n"
          ]
        }
      ]
    },
    {
      "cell_type": "code",
      "source": [
        "\n",
        "def node_1(state: LearningState) -> LearningState:\n",
        "  print(\"---Node 1 State---\", state)\n",
        "  return {\"prompt\": state['prompt'] +\" I am\"}\n",
        "\n",
        "def node_2(state: LearningState) -> LearningState:\n",
        "  print(\"---Node 2 State---\", state)\n",
        "  return {\"prompt\": state['prompt'] +\" happy!\"}"
      ],
      "metadata": {
        "id": "dHgi1hG8N-zj"
      },
      "execution_count": null,
      "outputs": []
    },
    {
      "cell_type": "code",
      "source": [
        "from IPython.display import Image, display # Preview Graph\n",
        "\n",
        "from langgraph.graph import StateGraph, START, END\n",
        "from langgraph.graph.state import CompiledStateGraph # type\n",
        "\n",
        "# Build graph\n",
        "builder: StateGraph = StateGraph(state_schema=LearningState)\n"
      ],
      "metadata": {
        "id": "TJZsSiKlOqMG"
      },
      "execution_count": null,
      "outputs": []
    },
    {
      "cell_type": "code",
      "source": [
        "# Nodes\n",
        "builder.add_node(\"node_1\", node_1)\n",
        "builder.add_node(\"node_2\", node_2)"
      ],
      "metadata": {
        "colab": {
          "base_uri": "https://localhost:8080/"
        },
        "id": "LmHcBv7iOzpG",
        "outputId": "16ddc873-6b72-419d-fabe-1dc197396e75"
      },
      "execution_count": null,
      "outputs": [
        {
          "output_type": "execute_result",
          "data": {
            "text/plain": [
              "<langgraph.graph.state.StateGraph at 0x787270256b90>"
            ]
          },
          "metadata": {},
          "execution_count": 7
        }
      ]
    },
    {
      "cell_type": "code",
      "source": [
        "# Simples Edges Logic\n",
        "builder.add_edge(START, \"node_1\")\n",
        "builder.add_edge(\"node_1\", \"node_2\")\n",
        "builder.add_edge(\"node_2\", END)"
      ],
      "metadata": {
        "colab": {
          "base_uri": "https://localhost:8080/"
        },
        "id": "sSwFFdz9O24L",
        "outputId": "0ebed6ba-774b-4f1f-c801-3916e5dc0366"
      },
      "execution_count": null,
      "outputs": [
        {
          "output_type": "execute_result",
          "data": {
            "text/plain": [
              "<langgraph.graph.state.StateGraph at 0x787270256b90>"
            ]
          },
          "metadata": {},
          "execution_count": 8
        }
      ]
    },
    {
      "cell_type": "code",
      "source": [
        "graph: CompiledStateGraph = builder.compile()"
      ],
      "metadata": {
        "id": "6SVyLXWmO5qP"
      },
      "execution_count": null,
      "outputs": []
    },
    {
      "cell_type": "code",
      "source": [
        "print(graph)"
      ],
      "metadata": {
        "colab": {
          "base_uri": "https://localhost:8080/"
        },
        "id": "jFVs-Y2FO-dd",
        "outputId": "33cf8bce-da42-4019-9de0-afc762e9e35a"
      },
      "execution_count": null,
      "outputs": [
        {
          "output_type": "stream",
          "name": "stdout",
          "text": [
            "<langgraph.graph.state.CompiledStateGraph object at 0x787245ca0490>\n"
          ]
        }
      ]
    },
    {
      "cell_type": "code",
      "source": [
        "print(graph.get_graph())"
      ],
      "metadata": {
        "colab": {
          "base_uri": "https://localhost:8080/"
        },
        "id": "xHp9A3TUPBbV",
        "outputId": "47b9b7f3-c294-4bf2-ea9b-95c584eb9c93"
      },
      "execution_count": null,
      "outputs": [
        {
          "output_type": "stream",
          "name": "stdout",
          "text": [
            "Graph(nodes={'__start__': Node(id='__start__', name='__start__', data=<class 'langchain_core.utils.pydantic.LangGraphInput'>, metadata=None), 'node_1': Node(id='node_1', name='node_1', data=node_1(tags=None, recurse=True, func_accepts_config=False, func_accepts={'writer': False, 'store': False}), metadata=None), 'node_2': Node(id='node_2', name='node_2', data=node_2(tags=None, recurse=True, func_accepts_config=False, func_accepts={'writer': False, 'store': False}), metadata=None), '__end__': Node(id='__end__', name='__end__', data=<class 'langchain_core.utils.pydantic.LangGraphOutput'>, metadata=None)}, edges=[Edge(source='__start__', target='node_1', data=None, conditional=False), Edge(source='node_1', target='node_2', data=None, conditional=False), Edge(source='node_2', target='__end__', data=None, conditional=False)])\n"
          ]
        }
      ]
    },
    {
      "cell_type": "code",
      "source": [
        "# View\n",
        "display(Image(graph.get_graph().draw_mermaid_png()))"
      ],
      "metadata": {
        "colab": {
          "base_uri": "https://localhost:8080/",
          "height": 350
        },
        "id": "aHBAxYX-PEVY",
        "outputId": "77afa816-0b50-4113-b952-0784a5e9aa7a"
      },
      "execution_count": null,
      "outputs": [
        {
          "output_type": "display_data",
          "data": {
            "image/png": "[encoded data removed]",
            "text/plain": [
              "<IPython.core.display.Image object>"
            ]
          },
          "metadata": {}
        }
      ]
    },
    {
      "cell_type": "code",
      "source": [
        "graph.invoke({\"prompt\" : \"my name is ali\"})"
      ],
      "metadata": {
        "colab": {
          "base_uri": "https://localhost:8080/"
        },
        "id": "qkrBcLzTPHA3",
        "outputId": "225d5bf6-ffe0-46bc-991a-7b361e961a17"
      },
      "execution_count": null,
      "outputs": [
        {
          "output_type": "stream",
          "name": "stdout",
          "text": [
            "---Node 1 State--- {'prompt': 'my name is ali'}\n",
            "---Node 2 State--- {'prompt': 'my name is ali I am'}\n"
          ]
        },
        {
          "output_type": "execute_result",
          "data": {
            "text/plain": [
              "{'prompt': 'my name is ali I am happy!'}"
            ]
          },
          "metadata": {},
          "execution_count": 14
        }
      ]
    },
    {
      "cell_type": "code",
      "source": [
        "%pip install -q -U langchain\n",
        "%pip install -q -U langchain-google-genai\n"
      ],
      "metadata": {
        "colab": {
          "base_uri": "https://localhost:8080/"
        },
        "id": "4d57WWV6PWMo",
        "outputId": "2b77ba3e-dfb0-402b-f963-00de69ba875d"
      },
      "execution_count": null,
      "outputs": [
        {
          "output_type": "stream",
          "name": "stdout",
          "text": [
            "\u001b[?25l   \u001b[90m━━━━━━━━━━━━━━━━━━━━━━━━━━━━━━━━━━━━━━━━\u001b[0m \u001b[32m0.0/1.0 MB\u001b[0m \u001b[31m?\u001b[0m eta \u001b[36m-:--:--\u001b[0m\r\u001b[2K   \u001b[91m━━━━━━\u001b[0m\u001b[91m╸\u001b[0m\u001b[90m━━━━━━━━━━━━━━━━━━━━━━━━━━━━━━━━━\u001b[0m \u001b[32m0.2/1.0 MB\u001b[0m \u001b[31m5.0 MB/s\u001b[0m eta \u001b[36m0:00:01\u001b[0m\r\u001b[2K   \u001b[91m━━━━━━━━━━━━━━━━━━━━━━━━━━━━━━━━━━━━━━━\u001b[0m\u001b[91m╸\u001b[0m \u001b[32m1.0/1.0 MB\u001b[0m \u001b[31m16.4 MB/s\u001b[0m eta \u001b[36m0:00:01\u001b[0m\r\u001b[2K   \u001b[90m━━━━━━━━━━━━━━━━━━━━━━━━━━━━━━━━━━━━━━━━\u001b[0m \u001b[32m1.0/1.0 MB\u001b[0m \u001b[31m12.7 MB/s\u001b[0m eta \u001b[36m0:00:00\u001b[0m\n",
            "\u001b[2K   \u001b[90m━━━━━━━━━━━━━━━━━━━━━━━━━━━━━━━━━━━━━━━━\u001b[0m \u001b[32m411.6/411.6 kB\u001b[0m \u001b[31m25.5 MB/s\u001b[0m eta \u001b[36m0:00:00\u001b[0m\n",
            "\u001b[2K   \u001b[90m━━━━━━━━━━━━━━━━━━━━━━━━━━━━━━━━━━━━━━━━\u001b[0m \u001b[32m41.3/41.3 kB\u001b[0m \u001b[31m1.6 MB/s\u001b[0m eta \u001b[36m0:00:00\u001b[0m\n",
            "\u001b[?25h"
          ]
        }
      ]
    },
    {
      "cell_type": "code",
      "source": [
        "from google.colab import userdata\n",
        "google_api_key = userdata.get('GEMINI_API_KEY')"
      ],
      "metadata": {
        "id": "xvZ59krwPeiJ"
      },
      "execution_count": null,
      "outputs": []
    },
    {
      "cell_type": "code",
      "source": [
        "from langchain_google_genai import ChatGoogleGenerativeAI\n",
        "\n",
        "# Initialize an instance of the ChatGoogleGenerativeAI with specific parameters\n",
        "llm: ChatGoogleGenerativeAI = ChatGoogleGenerativeAI(\n",
        "    model=\"gemini-1.5-flash\",  # Specify the model to use\n",
        "    api_key=google_api_key,     # Provide the Google API key for authentication\n",
        ")"
      ],
      "metadata": {
        "id": "BH3zKeMcQbzt"
      },
      "execution_count": null,
      "outputs": []
    },
    {
      "cell_type": "code",
      "source": [
        "# Import the AIMessage class currently will be used for typing\n",
        "from langchain_core.messages.ai import AIMessage\n",
        "\n",
        "ai_msg: AIMessage = llm.invoke(\"Hi?\")"
      ],
      "metadata": {
        "id": "hFWHia6IQssm"
      },
      "execution_count": null,
      "outputs": []
    },
    {
      "cell_type": "code",
      "source": [
        "print(ai_msg.content)\n",
        "print(type(ai_msg.content))"
      ],
      "metadata": {
        "colab": {
          "base_uri": "https://localhost:8080/"
        },
        "id": "CpbMVvZiQth0",
        "outputId": "baf9a36a-c457-413c-8eba-7c1f8658056c"
      },
      "execution_count": null,
      "outputs": [
        {
          "output_type": "stream",
          "name": "stdout",
          "text": [
            "Hi there! How can I help you today?\n",
            "\n",
            "<class 'str'>\n"
          ]
        }
      ]
    },
    {
      "cell_type": "code",
      "source": [
        "from typing_extensions import TypedDict\n",
        "\n",
        "class FirstLLMAgentCall(TypedDict):\n",
        "    prompt: str\n",
        "    output: str"
      ],
      "metadata": {
        "id": "270VW4nKQwVG"
      },
      "execution_count": null,
      "outputs": []
    },
    {
      "cell_type": "code",
      "source": [
        "def node_1(state: FirstLLMAgentCall):\n",
        "    print(\"---Node 1---\", state)\n",
        "    prompt = state[\"prompt\"]\n",
        "    ai_msg: AIMessage = llm.invoke(prompt)\n",
        "    return {\"output\": ai_msg.content}"
      ],
      "metadata": {
        "id": "3fLhTKgbQy2i"
      },
      "execution_count": null,
      "outputs": []
    },
    {
      "cell_type": "code",
      "source": [
        "zeeshan_bhai_greet_message = node_1(FirstLLMAgentCall(prompt=\"Hello from UMT\"))\n",
        "print(zeeshan_bhai_greet_message)"
      ],
      "metadata": {
        "colab": {
          "base_uri": "https://localhost:8080/"
        },
        "id": "zTnsnQBOQ15i",
        "outputId": "2488cdcf-099a-4d41-a595-a79179fbde58"
      },
      "execution_count": null,
      "outputs": [
        {
          "output_type": "stream",
          "name": "stdout",
          "text": [
            "---Node 1--- {'prompt': 'Hello from UMT'}\n",
            "{'output': 'Hello from here!  Is there anything I can help you with today?\\n'}\n"
          ]
        }
      ]
    },
    {
      "cell_type": "code",
      "source": [
        "from IPython.display import Image, display # Preview Graph\n",
        "\n",
        "from langgraph.graph import StateGraph, START, END\n",
        "from langgraph.graph.state import CompiledStateGraph # type\n",
        "\n",
        "# Build graph\n",
        "builder: StateGraph = StateGraph(state_schema=FirstLLMAgentCall)\n",
        "\n",
        "# Define Nodes\n",
        "builder.add_node(\"node_1\", node_1)\n",
        "\n",
        "# Add Edges\n",
        "builder.add_edge(START, \"node_1\")\n",
        "builder.add_edge(\"node_1\", END)\n",
        "\n",
        "# Compile Graph\n",
        "graph: CompiledStateGraph = builder.compile()"
      ],
      "metadata": {
        "id": "olfV5ikYQ4hm"
      },
      "execution_count": null,
      "outputs": []
    },
    {
      "cell_type": "code",
      "source": [
        "# View\n",
        "display(Image(graph.get_graph().draw_mermaid_png()))"
      ],
      "metadata": {
        "colab": {
          "base_uri": "https://localhost:8080/",
          "height": 251
        },
        "id": "o2-P8UvsSfYO",
        "outputId": "744e9102-bb9c-4897-bd11-9858e35720ec"
      },
      "execution_count": null,
      "outputs": [
        {
          "output_type": "display_data",
          "data": {
            "image/png": "[encoded data removed]",
            "text/plain": [
              "<IPython.core.display.Image object>"
            ]
          },
          "metadata": {}
        }
      ]
    },
    {
      "cell_type": "code",
      "source": [
        "result = graph.invoke({\"prompt\" : \"Motivate me to learn LangGraph\"})"
      ],
      "metadata": {
        "colab": {
          "base_uri": "https://localhost:8080/"
        },
        "id": "sU7ULYiMSkAR",
        "outputId": "17b63bb6-836e-440b-ba6c-da8339cb7300"
      },
      "execution_count": null,
      "outputs": [
        {
          "output_type": "stream",
          "name": "stdout",
          "text": [
            "---Node 1--- {'prompt': 'Motivate me to learn LangGraph'}\n"
          ]
        }
      ]
    },
    {
      "cell_type": "code",
      "source": [
        "print(result)"
      ],
      "metadata": {
        "colab": {
          "base_uri": "https://localhost:8080/"
        },
        "id": "PC0b2V3wTQfB",
        "outputId": "2d1556d4-b550-4177-844b-b1e37c5a6936"
      },
      "execution_count": null,
      "outputs": [
        {
          "output_type": "stream",
          "name": "stdout",
          "text": [
            "{'prompt': 'Motivate me to learn LangGraph', 'output': \"Let's talk about why learning LangGraph could be a fantastic investment of your time and energy.  Forget dry technicalities for a moment – let's focus on the *impact* and *opportunities* it unlocks:\\n\\n**Imagine this:**\\n\\n* **You're at the forefront of a revolution:**  LangGraph sits at the intersection of two incredibly powerful fields: natural language processing (NLP) and graph databases.  This is not just incremental improvement; it's a paradigm shift.  Mastering it positions you as a highly sought-after specialist in a rapidly evolving landscape.\\n\\n* **Solving complex problems with elegant solutions:**  Think about the messy, interconnected nature of real-world data.  LangGraph allows you to represent and reason about this data in a way that traditional NLP methods simply can't.  You'll be able to build systems that understand context, relationships, and nuances far beyond what's currently possible.  This opens doors to solving problems in areas like:\\n    * **Knowledge graph construction and reasoning:** Building intelligent systems that understand and connect information.\\n    * **Drug discovery and development:** Analyzing vast amounts of biomedical literature to identify potential drug candidates.\\n    * **Financial modeling:** Understanding complex relationships between financial instruments and market events.\\n    * **Supply chain optimization:**  Analyzing intricate networks to improve efficiency and resilience.\\n    * **Personalized recommendations:** Building systems that understand user preferences at a much deeper level.\\n\\n* **Unleashing your creativity:**  LangGraph isn't just about applying existing tools; it's about building new ones.  You'll be empowered to develop innovative applications and solutions that haven't even been conceived yet.  The possibilities are truly limitless.\\n\\n* **Boosting your career prospects:**  The demand for skilled professionals in NLP and graph databases is exploding.  Adding LangGraph to your skillset will make you a highly competitive candidate for high-paying, intellectually stimulating roles.\\n\\n* **Contributing to something meaningful:**  By mastering LangGraph, you'll be part of a community pushing the boundaries of AI and data science. You'll be contributing to the development of technologies that can solve some of the world's most pressing challenges.\\n\\nLearning LangGraph won't be easy, but the rewards are substantial.  It's an investment in your future, your skills, and your potential to make a real impact.  Think about the problems you want to solve, the innovations you want to create, and the career you want to build.  LangGraph can be the key to unlocking them all.  Are you ready to begin?\\n\"}\n"
          ]
        }
      ]
    },
    {
      "cell_type": "code",
      "source": [
        "# just another helpter function\n",
        "import textwrap\n",
        "from IPython.display import display, Markdown\n",
        "\n",
        "def to_markdown(text)-> Markdown:\n",
        "    text : str = text.replace(\"•\", \"  *\")\n",
        "    return Markdown(textwrap.indent(text, \"> \", predicate=lambda _: True))"
      ],
      "metadata": {
        "id": "RbTPHg6qTUtd"
      },
      "execution_count": null,
      "outputs": []
    },
    {
      "cell_type": "code",
      "source": [
        "print(\"PROMPT: \", result['prompt'])\n",
        "to_markdown(result['output'])"
      ],
      "metadata": {
        "colab": {
          "base_uri": "https://localhost:8080/",
          "height": 805
        },
        "id": "wXwTqGNDT_lh",
        "outputId": "ee8b71b8-f312-43e6-d30d-0baf1a493f7c"
      },
      "execution_count": null,
      "outputs": [
        {
          "output_type": "stream",
          "name": "stdout",
          "text": [
            "PROMPT:  Motivate me to learn LangGraph\n"
          ]
        },
        {
          "output_type": "execute_result",
          "data": {
            "text/plain": [
              "<IPython.core.display.Markdown object>"
            ],
            "text/markdown": "> Let's talk about why learning LangGraph could be a fantastic investment of your time and energy.  Forget dry technicalities for a moment – let's focus on the *impact* and *opportunities* it unlocks:\n> \n> **Imagine this:**\n> \n> * **You're at the forefront of a revolution:**  LangGraph sits at the intersection of two incredibly powerful fields: natural language processing (NLP) and graph databases.  This is not just incremental improvement; it's a paradigm shift.  Mastering it positions you as a highly sought-after specialist in a rapidly evolving landscape.\n> \n> * **Solving complex problems with elegant solutions:**  Think about the messy, interconnected nature of real-world data.  LangGraph allows you to represent and reason about this data in a way that traditional NLP methods simply can't.  You'll be able to build systems that understand context, relationships, and nuances far beyond what's currently possible.  This opens doors to solving problems in areas like:\n>     * **Knowledge graph construction and reasoning:** Building intelligent systems that understand and connect information.\n>     * **Drug discovery and development:** Analyzing vast amounts of biomedical literature to identify potential drug candidates.\n>     * **Financial modeling:** Understanding complex relationships between financial instruments and market events.\n>     * **Supply chain optimization:**  Analyzing intricate networks to improve efficiency and resilience.\n>     * **Personalized recommendations:** Building systems that understand user preferences at a much deeper level.\n> \n> * **Unleashing your creativity:**  LangGraph isn't just about applying existing tools; it's about building new ones.  You'll be empowered to develop innovative applications and solutions that haven't even been conceived yet.  The possibilities are truly limitless.\n> \n> * **Boosting your career prospects:**  The demand for skilled professionals in NLP and graph databases is exploding.  Adding LangGraph to your skillset will make you a highly competitive candidate for high-paying, intellectually stimulating roles.\n> \n> * **Contributing to something meaningful:**  By mastering LangGraph, you'll be part of a community pushing the boundaries of AI and data science. You'll be contributing to the development of technologies that can solve some of the world's most pressing challenges.\n> \n> Learning LangGraph won't be easy, but the rewards are substantial.  It's an investment in your future, your skills, and your potential to make a real impact.  Think about the problems you want to solve, the innovations you want to create, and the career you want to build.  LangGraph can be the key to unlocking them all.  Are you ready to begin?\n"
          },
          "metadata": {},
          "execution_count": 29
        }
      ]
    },
    {
      "cell_type": "markdown",
      "source": [
        "# 01_conditional_edge.**ipynb**"
      ],
      "metadata": {
        "id": "tGFv4133rNC3"
      }
    },
    {
      "cell_type": "code",
      "source": [
        "%%capture --no-stderr\n",
        "%pip install --quiet -U langgraph"
      ],
      "metadata": {
        "id": "Q-rwoEIwrVb9"
      },
      "execution_count": null,
      "outputs": []
    },
    {
      "cell_type": "code",
      "source": [
        "from typing_extensions import TypedDict\n",
        "\n",
        "class State(TypedDict):\n",
        "    user_input: str"
      ],
      "metadata": {
        "id": "-ynsJxsxrjbV"
      },
      "execution_count": null,
      "outputs": []
    },
    {
      "cell_type": "code",
      "source": [
        "def node_1(state: State) -> State:\n",
        "    print(\"---Node 1---\", state)\n",
        "    return {\"user_input\": state['user_input'] +\" I am\"}\n",
        "\n",
        "def node_2(state: State) -> State:\n",
        "    print(\"---Node 2---\", state)\n",
        "    return {\"user_input\": state['user_input'] +\" happy!\"}\n",
        "\n",
        "def node_3(state: State) -> State:\n",
        "    print(\"---Node 3---\", state)\n",
        "    return {\"user_input\": state['user_input'] +\" sad!\"}\n",
        "\n",
        "def node_4(state: State) -> State:\n",
        "  print(\"---Node 4---\", state)\n",
        "  return {\"user_input\": state['user_input'] +\" SoSo!!\"}"
      ],
      "metadata": {
        "id": "8GO93nRYr9Un"
      },
      "execution_count": null,
      "outputs": []
    },
    {
      "cell_type": "code",
      "source": [
        "import random\n",
        "\n",
        "random.random()"
      ],
      "metadata": {
        "colab": {
          "base_uri": "https://localhost:8080/"
        },
        "id": "_G_RTkc7vKpK",
        "outputId": "e30524e7-aff5-4c7f-a51d-5aba83002777"
      },
      "execution_count": null,
      "outputs": [
        {
          "output_type": "execute_result",
          "data": {
            "text/plain": [
              "0.9201257314473482"
            ]
          },
          "metadata": {},
          "execution_count": 27
        }
      ]
    },
    {
      "cell_type": "code",
      "source": [
        "import random\n",
        "\n",
        "number: float = random.random() # 0 to 1\n",
        "\n",
        "if number < 0.5:\n",
        "    print(\"The random number is less than 0.5!\")\n",
        "elif number == 0.5:\n",
        "    print(\"The random number is 0.5!\")\n",
        "else:\n",
        "    print(\"The random number is more!\")\n",
        "\n",
        "# What does this do?\n",
        "# The code generates a random number between 0 and 1 and checks if it is less than 0.5.\n",
        "# If it's less than 0.5, it prints \"The random number is less than 0.5!\".\n",
        "# If it's 0.5 or more, it prints \"The random number is 0.5 or more!\".\n",
        "# The output will be different every time because of the random number!\n"
      ],
      "metadata": {
        "colab": {
          "base_uri": "https://localhost:8080/"
        },
        "id": "kflj-3MpvM3r",
        "outputId": "6486b5fa-e0f1-49e4-834d-0e2927412919"
      },
      "execution_count": null,
      "outputs": [
        {
          "output_type": "stream",
          "name": "stdout",
          "text": [
            "The random number is more!\n"
          ]
        }
      ]
    },
    {
      "cell_type": "code",
      "source": [
        "import random\n",
        "from typing import Literal\n",
        "\n",
        "def decide_mood(state: State) -> Literal[\"node_2\", \"node_3\", \"node_4\"]:\n",
        "\n",
        "    # Often, we will use state to decide on the next node to visit\n",
        "    user_input = state['user_input']\n",
        "\n",
        "    # Here, let's just do a 50 / 50 split between nodes 2, 3\n",
        "    if random.random() < 0.5:\n",
        "\n",
        "        # 50% of the time, we return Node 2\n",
        "        return \"node_2\"\n",
        "\n",
        "    # 50% of the time, we return Node 3\n",
        "    return \"node_3\"\n",
        "\n",
        "    return \"node_4\""
      ],
      "metadata": {
        "id": "Ey66N7i2vpaG"
      },
      "execution_count": null,
      "outputs": []
    },
    {
      "cell_type": "code",
      "source": [
        "from IPython.display import Image, display\n",
        "from langgraph.graph import StateGraph, START, END\n",
        "from langgraph.graph.state import CompiledStateGraph\n",
        "\n",
        "# Build graph\n",
        "builder: StateGraph = StateGraph(State)\n",
        "builder.add_node(\"node_1\", node_1)\n",
        "builder.add_node(\"node_2\", node_2)\n",
        "builder.add_node(\"node_3\", node_3)\n",
        "builder.add_node(\"node_4\", node_4)\n",
        "\n",
        "\n",
        "# Logic\n",
        "builder.add_edge(START, \"node_1\")\n",
        "builder.add_conditional_edges(\"node_1\", decide_mood)\n",
        "builder.add_edge(\"node_2\", END)\n",
        "builder.add_edge(\"node_3\", END)\n",
        "builder.add_edge(\"node_4\", END)\n",
        "\n",
        "\n",
        "# Add\n",
        "graph: CompiledStateGraph = builder.compile()\n",
        "\n",
        "# View\n",
        "display(Image(graph.get_graph().draw_mermaid_png()))"
      ],
      "metadata": {
        "colab": {
          "base_uri": "https://localhost:8080/",
          "height": 350
        },
        "id": "2dDicjKKv0tY",
        "outputId": "9fa8c741-e3f3-4216-a67a-da6f0f89231d"
      },
      "execution_count": 55,
      "outputs": [
        {
          "output_type": "display_data",
          "data": {
            "image/png": "[encoded data removed]",
            "text/plain": [
              "<IPython.core.display.Image object>"
            ]
          },
          "metadata": {}
        }
      ]
    },
    {
      "cell_type": "code",
      "source": [
        "graph.invoke({\"user_input\" : \"Hi, this is Ali.\"})"
      ],
      "metadata": {
        "colab": {
          "base_uri": "https://localhost:8080/"
        },
        "id": "xQvbUwO2EtU4",
        "outputId": "ab168188-5c60-43d1-e1b6-bf3283855305"
      },
      "execution_count": null,
      "outputs": [
        {
          "output_type": "stream",
          "name": "stdout",
          "text": [
            "---Node 1--- {'user_input': 'Hi, this is Ali.'}\n",
            "---Node 2--- {'user_input': 'Hi, this is Ali. I am'}\n"
          ]
        },
        {
          "output_type": "execute_result",
          "data": {
            "text/plain": [
              "{'user_input': 'Hi, this is Ali. I am happy!'}"
            ]
          },
          "metadata": {},
          "execution_count": 54
        }
      ]
    },
    {
      "cell_type": "code",
      "source": [],
      "metadata": {
        "id": "Hhab0N39IxW7"
      },
      "execution_count": null,
      "outputs": []
    }
  ]
}